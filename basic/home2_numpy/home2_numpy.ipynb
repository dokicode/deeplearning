{
 "cells": [
  {
   "cell_type": "code",
   "execution_count": 1,
   "metadata": {},
   "outputs": [],
   "source": [
    "import numpy as np\n",
    "import random\n",
    "import scipy.stats as sps"
   ]
  },
  {
   "cell_type": "code",
   "execution_count": 7,
   "metadata": {},
   "outputs": [
    {
     "name": "stdout",
     "output_type": "stream",
     "text": [
      "[[0.68051087 0.11844432 0.96438182]\n",
      " [0.81208557 0.32319254 0.89395849]\n",
      " [0.27128966 0.27103245 0.92906319]]\n",
      "\n",
      "[[0.19509442 0.21441582 0.86692988]\n",
      " [0.14912432 0.51407724 0.39196074]\n",
      " [0.09757515 0.31146775 0.86881169]]\n"
     ]
    }
   ],
   "source": [
    "a = np.random.sample((3, 3))\n",
    "b = np.random.sample((3, 3))\n",
    "print(a)\n",
    "print()\n",
    "print(b)"
   ]
  },
  {
   "cell_type": "code",
   "execution_count": 13,
   "metadata": {},
   "outputs": [],
   "source": [
    "def mult(a, b):\n",
    "    first = a\n",
    "    second = b\n",
    "    result = []\n",
    "    l = len(first[0])\n",
    "    for i in range(0, l):\n",
    "        next_list = []\n",
    "        for j in range(0, l):\n",
    "            sum = 0\n",
    "            for z in range(0, l):\n",
    "                sum+= first[i][z] * second[z][j]\n",
    "            next_list.append(sum)\n",
    "        result.append(next_list)\n",
    "    return result\n"
   ]
  },
  {
   "cell_type": "code",
   "execution_count": 14,
   "metadata": {},
   "outputs": [
    {
     "name": "stdout",
     "output_type": "stream",
     "text": [
      "[[0.244526505029538, 0.5071756570416883, 1.4742469226957735], [0.2938573666741859, 0.6187091581610626, 1.6073816182795841], [0.18399811222302387, 0.48687362621041474, 1.148604147847183]]\n"
     ]
    }
   ],
   "source": [
    "print(mult(a, b))"
   ]
  },
  {
   "cell_type": "code",
   "execution_count": 15,
   "metadata": {},
   "outputs": [],
   "source": [
    "def np_mult(a, b):\n",
    "    first = a\n",
    "    second = b\n",
    "    return first @ second"
   ]
  },
  {
   "cell_type": "code",
   "execution_count": 16,
   "metadata": {},
   "outputs": [
    {
     "name": "stdout",
     "output_type": "stream",
     "text": [
      "[[0.24452651 0.50717566 1.47424692]\n",
      " [0.29385737 0.61870916 1.60738162]\n",
      " [0.18399811 0.48687363 1.14860415]]\n"
     ]
    }
   ],
   "source": [
    "print(np_mult(a, b))"
   ]
  },
  {
   "cell_type": "code",
   "execution_count": 19,
   "metadata": {},
   "outputs": [
    {
     "name": "stdout",
     "output_type": "stream",
     "text": [
      "[[  1 -15]\n",
      " [ 18 -10]\n",
      " [ 11 -13]]\n"
     ]
    }
   ],
   "source": [
    "a = np.array([[5, 1, -2, 0], [0, 3, 4, 3], [2, 3, 1, 1]])\n",
    "b = np.array([[1, -3], [2, -2], [3, -1], [0, 0]])\n",
    "c = a @ b\n",
    "print(c)"
   ]
  },
  {
   "cell_type": "code",
   "execution_count": 29,
   "metadata": {},
   "outputs": [],
   "source": [
    "def no_numpy_scalar(v1, v2):\n",
    "    #param v1, v2: lists of 3 ints\n",
    "    #YOUR CODE: please do not use numpy\n",
    "    l = len(v1)\n",
    "    cummul = 0\n",
    "    for i in range(l):\n",
    "        cummul+=v1[i]*v2[i]\n",
    "    \n",
    "    result = cummul\n",
    "    return result\n",
    "\n",
    "def numpy_scalar (v1, v2):\n",
    "    #param v1, v2: np.arrays[3]\n",
    "    #YOUR CODE\n",
    "\n",
    "    result = v1 @ v2\n",
    "    return result"
   ]
  },
  {
   "cell_type": "code",
   "execution_count": 30,
   "metadata": {},
   "outputs": [
    {
     "name": "stdout",
     "output_type": "stream",
     "text": [
      "14\n",
      "14\n"
     ]
    }
   ],
   "source": [
    "v1 = np.array([1, 2, 3])\n",
    "v2 = np.array([1, 2, 3])\n",
    "print(numpy_scalar(v1, v2))\n",
    "print(no_numpy_scalar(v1, v2))"
   ]
  },
  {
   "cell_type": "code",
   "execution_count": 36,
   "metadata": {},
   "outputs": [],
   "source": [
    "def diag_2k(a):\n",
    "    #param a: np.array[size, size]\n",
    "    #YOUR CODE\n",
    "    l = len(a)\n",
    "    sum = 0\n",
    "    for i in range(l):\n",
    "        if a[i][i] % 2 == 0:\n",
    "            sum+= a[i][i]\n",
    "    result = sum\n",
    "    return result"
   ]
  },
  {
   "cell_type": "code",
   "execution_count": 38,
   "metadata": {},
   "outputs": [
    {
     "name": "stdout",
     "output_type": "stream",
     "text": [
      "8\n"
     ]
    }
   ],
   "source": [
    "a = np.array([[1, 2], [2, 8]])\n",
    "print(diag_2k(a))"
   ]
  }
 ],
 "metadata": {
  "kernelspec": {
   "display_name": ".venv",
   "language": "python",
   "name": "python3"
  },
  "language_info": {
   "codemirror_mode": {
    "name": "ipython",
    "version": 3
   },
   "file_extension": ".py",
   "mimetype": "text/x-python",
   "name": "python",
   "nbconvert_exporter": "python",
   "pygments_lexer": "ipython3",
   "version": "3.10.1"
  },
  "orig_nbformat": 4
 },
 "nbformat": 4,
 "nbformat_minor": 2
}
